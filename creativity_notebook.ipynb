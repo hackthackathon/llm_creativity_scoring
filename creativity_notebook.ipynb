{
 "cells": [
  {
   "cell_type": "markdown",
   "metadata": {},
   "source": [
    "## Description\n",
    "\n",
    "This project was set to run on Github codespaces with the following requirements:\n",
    "\n",
    "- azure-ai-inference~=1.0.0b4\n",
    "- openai~=1.37.1\n",
    "- mistralai~=0.4.2\n",
    "- python-dotenv~=1.0.1\n",
    "- ipykernel~=6.29.5\n",
    "\n",
    "You can also run this locally.\n"
   ]
  },
  {
   "cell_type": "code",
   "execution_count": 1,
   "metadata": {},
   "outputs": [],
   "source": [
    "import time\n",
    "import os\n",
    "import requests\n",
    "from openai import OpenAI\n",
    "import pandas as pd\n",
    "\n",
    "pd.set_option('display.max_colwidth', 0)"
   ]
  },
  {
   "cell_type": "markdown",
   "metadata": {},
   "source": [
    "### Load Files \n",
    "\n",
    "You should have as input, a csv containing the entirety of the project description under the column 'description'. The rubric should have two columns -- criteria and description"
   ]
  },
  {
   "cell_type": "code",
   "execution_count": 2,
   "metadata": {},
   "outputs": [],
   "source": [
    "# Load project descriptions and rubric descriptions. \n",
    "projects_df = pd.read_csv(\"projects_selected.csv\")\n",
    "rubric_df = pd.read_csv(\"devpost_creativity_rubric.csv\")"
   ]
  },
  {
   "cell_type": "markdown",
   "metadata": {},
   "source": [
    "### Microsoft AI\n"
   ]
  },
  {
   "cell_type": "code",
   "execution_count": 3,
   "metadata": {},
   "outputs": [],
   "source": [
    "#pip install azure-ai-inference\n",
    "\n",
    "import os\n",
    "import time\n",
    "from azure.ai.inference import ChatCompletionsClient\n",
    "from azure.ai.inference.models import SystemMessage, UserMessage\n",
    "from azure.core.credentials import AzureKeyCredential\n",
    "import pandas as pd\n",
    "\n",
    "# Configuration\n",
    "endpoint = \"https://models.inference.ai.azure.com\"\n",
    "model_name = \"Phi-3-medium-4k-instruct\"\n",
    "token = os.environ[\"GITHUB_TOKEN\"]\n",
    "\n",
    "# Initialize Microsoft client\n",
    "client = ChatCompletionsClient(\n",
    "    endpoint=endpoint,\n",
    "    credential=AzureKeyCredential(token),\n",
    ")\n",
    "\n",
    "# Function to call the Microsoft-hosted OpenAI model with rate limiting\n",
    "def call_microsoft_model_with_rate_limiting(prompt, max_tokens=300, temperature=1.0, top_p=1.0):\n",
    "    \"\"\"\n",
    "    Calls the Microsoft-hosted OpenAI model with rate limiting.\n",
    "    Args:\n",
    "        prompt (str): Input prompt for the model.\n",
    "        max_tokens (int): Maximum tokens to generate.\n",
    "        temperature (float): Sampling temperature.\n",
    "        top_p (float): Nucleus sampling parameter.\n",
    "    Returns:\n",
    "        str: The generated text response.\n",
    "    \"\"\"\n",
    "    while True:\n",
    "        try:\n",
    "            response = client.complete(\n",
    "                messages=[\n",
    "                    SystemMessage(content=\"You are a helpful assistant.\"),\n",
    "                    UserMessage(content=prompt),\n",
    "                ],\n",
    "                temperature=temperature,\n",
    "                top_p=top_p,\n",
    "                max_tokens=max_tokens,\n",
    "                model=model_name,\n",
    "            )\n",
    "            return response.choices[0].message.content.strip()\n",
    "        except Exception as e:\n",
    "            if \"RateLimitExceeded\" in str(e):\n",
    "                # Extract retry time or default to 60 seconds\n",
    "                retry_after = int(e.response.headers.get(\"Retry-After\", 60)) if hasattr(e, \"response\") else 60\n",
    "                print(f\"Rate limit exceeded. Retrying after {retry_after} seconds...\")\n",
    "                time.sleep(retry_after)\n",
    "            else:\n",
    "                raise\n",
    "\n",
    "# Function to process project descriptions\n",
    "def process_projects_with_microsoft_model(projects_df, rubric_df, batch_size=3, pause_time=60):\n",
    "    \"\"\"\n",
    "    Processes project descriptions in batches with rate limiting.\n",
    "    Args:\n",
    "        projects_df (DataFrame): DataFrame containing project descriptions.\n",
    "        rubric_df (DataFrame): DataFrame containing rubric descriptions.\n",
    "        batch_size (int): Number of descriptions to process per batch.\n",
    "        pause_time (int): Time to wait between batches in seconds.\n",
    "    Returns:\n",
    "        DataFrame: Updated DataFrame with reworded segments.\n",
    "    \"\"\"\n",
    "    # Extract rubric descriptions\n",
    "    innovation_desc = rubric_df[rubric_df[\"Criterion\"] == \"Innovation\"][\"Description\"].iloc[0]\n",
    "    curiosity_desc = rubric_df[rubric_df[\"Criterion\"] == \"Curiosity\"][\"Description\"].iloc[0]\n",
    "\n",
    "    # Define a function to generate reworded text\n",
    "    def generate_reworded_text(description, criterion, criterion_desc):\n",
    "        prompt = (\n",
    "            f\"Analyze the project description below based on the '{criterion}' criteria. \"\n",
    "            f\"Extract and list specific aspects of the project that demonstrate alignment with the '{criterion}' criteria, using only the information from the description without adding interpretive commentary or value judgments.\"\n",
    "            f\"Extract and list specific aspects of the project that misalign with or fail to fully meet the '{criterion}' criteria, focusing only on evidence from the description.\"\n",
    "            f\"Describe how this project met or did not meet each level of the scoring scale for the '{criterion}' criteria. Use  only 'fully met,' 'partially met,' or 'did not meet'for each level, and provide a concise explanation.\\n\\n\"\n",
    "            f\"Definition of {criterion}: {criterion_desc}\\n\\n\"\n",
    "            f\"Project Description: {description}\\n\\n\"\n",
    "            f\"Response:\"\n",
    "        )\n",
    "        return call_microsoft_model_with_rate_limiting(prompt)\n",
    "    \n",
    "    def generate_project_summary(description):\n",
    "        \"\"\"\n",
    "        Adds a new column to the DataFrame with a summary of the project, including\n",
    "        the Project Overview and Problem Statement.\n",
    "        \"\"\"\n",
    "        prompt = (\n",
    "            f\"Given the project description:\\n\\n\"\n",
    "            f\"Provide one sentence describing the project.\\n\"\n",
    "            f\"Provide one sentence stating the problem the project is trying to solve.\\n\\n\"\n",
    "            f\"Project Description: {description}\\n\\n\"\n",
    "            f\"Response:\"\n",
    "        )\n",
    "        return call_microsoft_model_with_rate_limiting(prompt)\n",
    "\n",
    "    # Process in batches\n",
    "    for i in range(0, len(projects_df), batch_size):\n",
    "        batch = projects_df.iloc[i:i + batch_size]\n",
    "        print(f\"Processing batch {i // batch_size + 1}/{(len(projects_df) // batch_size) + 1}...\")\n",
    "\n",
    "        # Apply project summary generation\n",
    "        projects_df.loc[batch.index, \"Project_Summary\"] = batch[\"description\"].apply(\n",
    "            generate_project_summary\n",
    "        )\n",
    "        # Apply rewording for innovation and curiosity\n",
    "        projects_df.loc[batch.index, \"Innovation_Assessment\"] = batch[\"description\"].apply(\n",
    "            lambda x: generate_reworded_text(x, \"Innovation\", innovation_desc)\n",
    "        )\n",
    "        projects_df.loc[batch.index, \"Curiosity_Assessment\"] = batch[\"description\"].apply(\n",
    "            lambda x: generate_reworded_text(x, \"Curiosity\", curiosity_desc)\n",
    "        )\n",
    "\n",
    "        # Pause between batches to avoid exceeding rate limits\n",
    "        print(f\"Batch {i // batch_size + 1} completed. Pausing for {pause_time} seconds...\")\n",
    "        time.sleep(pause_time)\n",
    "\n",
    "    return projects_df\n"
   ]
  },
  {
   "cell_type": "code",
   "execution_count": null,
   "metadata": {},
   "outputs": [
    {
     "name": "stdout",
     "output_type": "stream",
     "text": [
      "Processing batch 1/4...\n"
     ]
    }
   ],
   "source": [
    "processed_df = process_projects_with_microsoft_model(projects_df, rubric_df)\n",
    "processed_df.to_csv(\"processed_projects.csv\", index=False)\n"
   ]
  },
  {
   "cell_type": "code",
   "execution_count": null,
   "metadata": {},
   "outputs": [],
   "source": [
    "creativity_df = processed_df[['Project_Summary','Innovation_Assessment','Curiosity_Assessment']]\n",
    "creativity_df"
   ]
  }
 ],
 "metadata": {
  "kernelspec": {
   "display_name": "Python 3",
   "language": "python",
   "name": "python3"
  },
  "language_info": {
   "codemirror_mode": {
    "name": "ipython",
    "version": 3
   },
   "file_extension": ".py",
   "mimetype": "text/x-python",
   "name": "python",
   "nbconvert_exporter": "python",
   "pygments_lexer": "ipython3",
   "version": "3.11.9"
  }
 },
 "nbformat": 4,
 "nbformat_minor": 2
}
